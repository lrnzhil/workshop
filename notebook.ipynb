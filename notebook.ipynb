{
 "cells": [
  {
   "cell_type": "code",
   "execution_count": 3,
   "id": "17e1ecb7",
   "metadata": {},
   "outputs": [
    {
     "name": "stdout",
     "output_type": "stream",
     "text": [
      "2.3.7\n"
     ]
    }
   ],
   "source": [
    "# pip install graphdatascience\n",
    "from graphdatascience import GraphDataScience\n",
    "\n",
    "NEO4J_URI = \"bolt://localhost:7687\"\n",
    "NEO4J_USER = \"neo4j\"\n",
    "NEO4J_PASSWORD = \"Insert your password here - default password is neo4j\"\n",
    "\n",
    "gds = GraphDataScience(NEO4J_URI, auth=(NEO4J_USER, NEO4J_PASSWORD), database=\"sna\")"
   ]
  },
  {
   "cell_type": "code",
   "execution_count": 10,
   "id": "1880bb21",
   "metadata": {},
   "outputs": [
    {
     "data": {
      "text/html": [
       "<div>\n",
       "<style scoped>\n",
       "    .dataframe tbody tr th:only-of-type {\n",
       "        vertical-align: middle;\n",
       "    }\n",
       "\n",
       "    .dataframe tbody tr th {\n",
       "        vertical-align: top;\n",
       "    }\n",
       "\n",
       "    .dataframe thead th {\n",
       "        text-align: right;\n",
       "    }\n",
       "</style>\n",
       "<table border=\"1\" class=\"dataframe\">\n",
       "  <thead>\n",
       "    <tr style=\"text-align: right;\">\n",
       "      <th></th>\n",
       "      <th>degreeDistribution</th>\n",
       "      <th>graphName</th>\n",
       "      <th>database</th>\n",
       "      <th>memoryUsage</th>\n",
       "      <th>sizeInBytes</th>\n",
       "      <th>nodeCount</th>\n",
       "      <th>relationshipCount</th>\n",
       "      <th>configuration</th>\n",
       "      <th>density</th>\n",
       "      <th>creationTime</th>\n",
       "      <th>modificationTime</th>\n",
       "      <th>schema</th>\n",
       "      <th>schemaWithOrientation</th>\n",
       "    </tr>\n",
       "  </thead>\n",
       "  <tbody>\n",
       "    <tr>\n",
       "      <th>0</th>\n",
       "      <td>{'p99': 3, 'min': 0, 'max': 3, 'mean': 0.8, 'p...</td>\n",
       "      <td>sna</td>\n",
       "      <td>sna</td>\n",
       "      <td>304 KiB</td>\n",
       "      <td>311592</td>\n",
       "      <td>5</td>\n",
       "      <td>4</td>\n",
       "      <td>{'relationshipProjection': {'VISITING': {'orie...</td>\n",
       "      <td>0.2</td>\n",
       "      <td>2023-06-01T13:02:47.383655200+02:00</td>\n",
       "      <td>2023-06-01T13:02:47.389590300+02:00</td>\n",
       "      <td>{'graphProperties': {}, 'relationships': {'VIS...</td>\n",
       "      <td>{'graphProperties': {}, 'relationships': {'VIS...</td>\n",
       "    </tr>\n",
       "  </tbody>\n",
       "</table>\n",
       "</div>"
      ],
      "text/plain": [
       "                                  degreeDistribution graphName database  \\\n",
       "0  {'p99': 3, 'min': 0, 'max': 3, 'mean': 0.8, 'p...       sna      sna   \n",
       "\n",
       "  memoryUsage  sizeInBytes  nodeCount  relationshipCount  \\\n",
       "0     304 KiB       311592          5                  4   \n",
       "\n",
       "                                       configuration  density  \\\n",
       "0  {'relationshipProjection': {'VISITING': {'orie...      0.2   \n",
       "\n",
       "                          creationTime                     modificationTime  \\\n",
       "0  2023-06-01T13:02:47.383655200+02:00  2023-06-01T13:02:47.389590300+02:00   \n",
       "\n",
       "                                              schema  \\\n",
       "0  {'graphProperties': {}, 'relationships': {'VIS...   \n",
       "\n",
       "                               schemaWithOrientation  \n",
       "0  {'graphProperties': {}, 'relationships': {'VIS...  "
      ]
     },
     "execution_count": 10,
     "metadata": {},
     "output_type": "execute_result"
    }
   ],
   "source": [
    "# List graphs in the catalog\n",
    "list_result = gds.graph.list()\n",
    "list_result"
   ]
  },
  {
   "cell_type": "code",
   "execution_count": 17,
   "id": "345cb1b6",
   "metadata": {},
   "outputs": [
    {
     "name": "stdout",
     "output_type": "stream",
     "text": [
      "   nodeId  score\n",
      "0       7    1.0\n",
      "1       8    0.0\n",
      "2       9    0.0\n",
      "3      12    0.0\n",
      "4      16    3.0\n"
     ]
    }
   ],
   "source": [
    "# Select relevant graph from the catalog\n",
    "G = gds.graph.get(\"sna\")\n",
    "\n",
    "# Calculate and print degree centralities\n",
    "degree_centralities = gds.degree.stream(G)\n",
    "print(degree_centralities)"
   ]
  },
  {
   "cell_type": "code",
   "execution_count": null,
   "id": "5f8cf02f",
   "metadata": {},
   "outputs": [],
   "source": []
  }
 ],
 "metadata": {
  "kernelspec": {
   "display_name": "Python 3",
   "language": "python",
   "name": "python3"
  },
  "language_info": {
   "codemirror_mode": {
    "name": "ipython",
    "version": 3
   },
   "file_extension": ".py",
   "mimetype": "text/x-python",
   "name": "python",
   "nbconvert_exporter": "python",
   "pygments_lexer": "ipython3",
   "version": "3.8.8"
  }
 },
 "nbformat": 4,
 "nbformat_minor": 5
}
